{
  "nbformat": 4,
  "nbformat_minor": 0,
  "metadata": {
    "colab": {
      "name": "pyomo_pibic_caso1.ipynb",
      "provenance": [],
      "authorship_tag": "ABX9TyPZDv4sv6dmghHM32PyeVhp",
      "include_colab_link": true
    },
    "kernelspec": {
      "name": "python3",
      "display_name": "Python 3"
    },
    "language_info": {
      "name": "python"
    }
  },
  "cells": [
    {
      "cell_type": "markdown",
      "metadata": {
        "id": "view-in-github",
        "colab_type": "text"
      },
      "source": [
        "<a href=\"https://colab.research.google.com/github/lucianoecp/DE/blob/main/pyomo_pibic_caso1.ipynb\" target=\"_parent\"><img src=\"https://colab.research.google.com/assets/colab-badge.svg\" alt=\"Open In Colab\"/></a>"
      ]
    },
    {
      "cell_type": "code",
      "metadata": {
        "colab": {
          "base_uri": "https://localhost:8080/"
        },
        "id": "QfV0EYZ3hRaL",
        "outputId": "fa921249-cd27-4ec0-bd1f-07461c1e0bcb"
      },
      "source": [
        "################################################################################\n",
        "# INSTALL CONDA ON GOOGLE COLAB\n",
        "################################################################################\n",
        "! wget https://repo.anaconda.com/miniconda/Miniconda3-py37_4.8.2-Linux-x86_64.sh\n",
        "! chmod +x Miniconda3-py37_4.8.2-Linux-x86_64.sh\n",
        "! bash ./Miniconda3-py37_4.8.2-Linux-x86_64.sh -b -f -p /usr/local\n",
        "import sys\n",
        "sys.path.append('/usr/local/lib/python3.7/site-packages/')"
      ],
      "execution_count": null,
      "outputs": [
        {
          "output_type": "stream",
          "text": [
            "--2021-08-28 07:12:04--  https://repo.anaconda.com/miniconda/Miniconda3-py37_4.8.2-Linux-x86_64.sh\n",
            "Resolving repo.anaconda.com (repo.anaconda.com)... 104.16.131.3, 104.16.130.3, 2606:4700::6810:8203, ...\n",
            "Connecting to repo.anaconda.com (repo.anaconda.com)|104.16.131.3|:443... connected.\n",
            "HTTP request sent, awaiting response... 200 OK\n",
            "Length: 85055499 (81M) [application/x-sh]\n",
            "Saving to: ‘Miniconda3-py37_4.8.2-Linux-x86_64.sh.1’\n",
            "\n",
            "Miniconda3-py37_4.8 100%[===================>]  81.12M   145MB/s    in 0.6s    \n",
            "\n",
            "2021-08-28 07:12:05 (145 MB/s) - ‘Miniconda3-py37_4.8.2-Linux-x86_64.sh.1’ saved [85055499/85055499]\n",
            "\n",
            "PREFIX=/usr/local\n",
            "Unpacking payload ...\n"
          ],
          "name": "stdout"
        }
      ]
    },
    {
      "cell_type": "code",
      "metadata": {
        "id": "wRvJjNjBiUbw"
      },
      "source": [
        "! conda install -c rdkit rdkit -y"
      ],
      "execution_count": null,
      "outputs": []
    },
    {
      "cell_type": "code",
      "metadata": {
        "id": "S-UfL4Ptig_0"
      },
      "source": [
        "!conda update conda -y\n",
        "!conda update anaconda -y"
      ],
      "execution_count": null,
      "outputs": []
    },
    {
      "cell_type": "code",
      "metadata": {
        "id": "avaIVhtbimQL"
      },
      "source": [
        "!conda install -c conda-forge pyomo -y\n",
        "!conda install -c conda-forge pyomo.extras -y"
      ],
      "execution_count": null,
      "outputs": []
    },
    {
      "cell_type": "code",
      "metadata": {
        "id": "M7X_q-Y4jKOV"
      },
      "source": [
        "!conda install -c conda-forge glpk -y\n",
        "!conda install -c conda-forge coincbc -y\n",
        "!conda install -c conda-forge ipopt -y"
      ],
      "execution_count": null,
      "outputs": []
    },
    {
      "cell_type": "code",
      "metadata": {
        "id": "UfDfdjrFj9_E"
      },
      "source": [
        "# -*- coding: utf-8 -*-\n",
        "\n",
        "\n",
        "from __future__ import division\n",
        "import numpy as np\n",
        "import pandas as pd\n",
        "import matplotlib.pyplot as plt\n",
        "\n",
        "import random\n",
        "\n",
        "import pyomo.environ as pyo, numpy as np, pandas as pd\n",
        "from pyomo.environ import *\n",
        "from pyomo.opt import SolverFactory\n",
        "\n",
        "# Entrada de dados:\n",
        "#\n",
        "## Geradores\n",
        "arquivo = 'input4.xlsx'\n",
        "ute = pd.read_excel(arquivo, sheet_name='UTE')\n",
        "demanda = pd.read_excel(arquivo, sheet_name='demanda')\n",
        "\n",
        "### termoelétricas:\n",
        "cos = ute.Custo.values\n",
        "a = ute.A.values*cos\n",
        "b = ute.B.values*cos\n",
        "c = ute.C.values*cos\n",
        "pmin = ute.Pmin.values\n",
        "pmax = ute.Pmax.values\n",
        "ur = ute.UR.values\n",
        "dr = ute.DR.values\n",
        "\n",
        "## Demanda\n",
        "Pd = demanda.dem.values\n",
        "t = demanda.t.to_list()\n",
        "\n",
        "Nd = len(Pd)\n",
        "Ng = len(ute)\n",
        "\n",
        "model = pyo.ConcreteModel()\n",
        "\n",
        "model.Pg = pyo.Var(range(Ng), range(Nd), bounds=(0,None))\n",
        "Pg = model.Pg\n",
        "\n",
        "model.deficit = pyo.Var(range(Nd), bounds=(0,None))\n",
        "deficit = model.deficit\n",
        "\n",
        "def fg(Pg,a,b,c,t):\n",
        "    return sum([a[g] + b[g]*Pg[g,t] + c[g]*Pg[g,t]*Pg[g,t] for g in range(Ng)])\n",
        "\n",
        "def fun_custo_total(Pg,a,b,c,Ph,ah,bh,ch,Pw,disp,Wmax,t):\n",
        "    Fg = fg(Pg,a,b,c,t)\n",
        "    Fh = fh(Ph,ah,bh,ch,t)\n",
        "    Fw = fw(Pw,disp,Wmax,t)\n",
        "    return Fg+Fh+Fw\n",
        "\n",
        "# Objetivo\n",
        "model.obj = pyo.Objective(expr= sum(fg(Pg,a,b,c,t) + deficit[t]*99999 for t in range(Nd)), sense=minimize)\n",
        "\n",
        "# balanco de potencia:\n",
        "model.balanco = ConstraintList()\n",
        "for t in range(Nd):\n",
        "    sum_Pg = sum(Pg[g,t] for g in range(Ng))\n",
        "    model.balanco.add(expr= (sum_Pg + deficit[t]) == Pd[t])\n",
        "\n",
        "# limites geração termo:\n",
        "model.limger = pyo.ConstraintList()\n",
        "for g in range(Ng):\n",
        "    for t in range(Nd):\n",
        "        model.limger.add(inequality(pmin[g], Pg[g,t], pmax[g]))\n",
        "\n",
        "# limites de rampas\n",
        "model.ramp_up = pyo.ConstraintList()\n",
        "for g in range(Ng):\n",
        "    for t in range(Nd):\n",
        "        if(t==0):\n",
        "            Constraint.Skip\n",
        "        else:\n",
        "            model.ramp_up.add(expr= Pg[g,t] - Pg[g,t-1] <= ur[g])\n",
        "\n",
        "model.ramp_down = pyo.ConstraintList()\n",
        "for g in range(Ng):\n",
        "    for t in range(Nd):\n",
        "        if(t==0):\n",
        "            Constraint.Skip\n",
        "        else:\n",
        "            model.ramp_down.add(expr= Pg[g,t-1] - Pg[g,t] <= dr[g])\n",
        "\n",
        "#opt = SolverFactory('couenne', executable='C:\\\\couenne\\\\bin\\\\couenne.exe')\n",
        "opt = SolverFactory('mindtpy')\n",
        "opt.solve(model, mip_solver='glpk', nlp_solver='ipopt')\n",
        "#opt.solve(model)\n",
        "\n",
        "model.pprint()\n",
        "\n",
        "# \n",
        "f = open('caso1.csv', 'w')\n",
        "\n",
        "f.write(\"t,Pd,\")\n",
        "for g in range(Ng):\n",
        "    f.write(f\"G[{g+1}]\"+\",\")\n",
        "f.write(\"Gerado,Corte\"+\"\\n\")\n",
        "\n",
        "\n",
        "for t in range(Nd):\n",
        "    f.write(str(t)+\",\"+str(Pd[t])+\",\")\n",
        "    for g in range(Ng):\n",
        "        f.write(str(pyo.value(Pg[g,t]))+\",\")\n",
        "    f.write(str(sum(pyo.value(Pg[:,t])))+ \",\" + str(int(pyo.value(deficit[t])))+\"\\n\")\n",
        "\n"
      ],
      "execution_count": null,
      "outputs": []
    },
    {
      "cell_type": "code",
      "metadata": {
        "id": "Qthh3BjzlVnH"
      },
      "source": [
        "print(ute)\n",
        "print(\"\\n\")\n",
        "print(Pd)"
      ],
      "execution_count": null,
      "outputs": []
    },
    {
      "cell_type": "code",
      "metadata": {
        "id": "l-7MzyXRky20"
      },
      "source": [
        "data = pd.read_csv('caso1.csv')\n",
        "data.head()\n",
        "print(data)"
      ],
      "execution_count": null,
      "outputs": []
    }
  ]
}